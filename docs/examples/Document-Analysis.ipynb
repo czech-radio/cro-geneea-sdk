{
 "metadata": {
  "language_info": {
   "codemirror_mode": {
    "name": "ipython",
    "version": 3
   },
   "file_extension": ".py",
   "mimetype": "text/x-python",
   "name": "python",
   "nbconvert_exporter": "python",
   "pygments_lexer": "ipython3",
   "version": "3.10.0-final"
  },
  "orig_nbformat": 2,
  "kernelspec": {
   "name": "python3",
   "display_name": "Python 3.10.0 64-bit ('.venv')",
   "metadata": {
    "interpreter": {
     "hash": "21201a9f535ce668cfd329968d1a3ccee003a82dfd28bd813f2409a7fe5dc07d"
    }
   }
  }
 },
 "nbformat": 4,
 "nbformat_minor": 2,
 "cells": [
  {
   "source": [
    "# Document NPL Analysis"
   ],
   "cell_type": "markdown",
   "metadata": {}
  },
  {
   "cell_type": "code",
   "execution_count": 1,
   "metadata": {},
   "outputs": [],
   "source": [
    "import os\n",
    "from cro.geneea.sdk import Client\n",
    "\n",
    "client = Client(key=os.environ.get(\"GENEEA_API_KEY\"))\n",
    "# Try `phrase = \"Příliž žluťoučký kůň\"`.\n",
    "\n",
    "with open(\"input.txt\", encoding=\"utf8\") as file:\n",
    "    phrases = \"\\n\".join(file.readlines())"
   ]
  },
  {
   "cell_type": "code",
   "execution_count": 2,
   "metadata": {},
   "outputs": [],
   "source": [
    "analysis = client.get_analysis(phrases)"
   ]
  },
  {
   "cell_type": "code",
   "execution_count": 3,
   "metadata": {},
   "outputs": [
    {
     "output_type": "execute_result",
     "data": {
      "text/plain": [
       "Document(original='Populární známka se prodávala na jediném místě v centru Kyjeva, kde na ni každý den čekaly stovky lidí. Mezitím se arch šesti známek prodává na inzertních serverech za více než 10 tisíc korun.\\n', analysed={'version': '3.2.1', 'language': {'detected': 'cs'}, 'paragraphs': [{'id': 'p0', 'type': 'BODY', 'text': 'Populární známka se prodávala na jediném místě v centru Kyjeva, kde na ni každý den čekaly stovky lidí. Mezitím se arch šesti známek prodává na inzertních serverech za více než 10 tisíc korun.', 'sentences': [{'id': 's0', 'tokens': [{'id': 'w0', 'off': 0, 'text': 'Populární'}, {'id': 'w1', 'off': 10, 'text': 'známka'}, {'id': 'w2', 'off': 17, 'text': 'se'}, {'id': 'w3', 'off': 20, 'text': 'prodávala'}, {'id': 'w4', 'off': 30, 'text': 'na'}, {'id': 'w5', 'off': 33, 'text': 'jediném'}, {'id': 'w6', 'off': 41, 'text': 'místě'}, {'id': 'w7', 'off': 47, 'text': 'v'}, {'id': 'w8', 'off': 49, 'text': 'centru'}, {'id': 'w9', 'off': 56, 'text': 'Kyjeva'}, {'id': 'w10', 'off': 62, 'text': ','}, {'id': 'w11', 'off': 64, 'text': 'kde'}, {'id': 'w12', 'off': 68, 'text': 'na'}, {'id': 'w13', 'off': 71, 'text': 'ni'}, {'id': 'w14', 'off': 74, 'text': 'každý'}, {'id': 'w15', 'off': 80, 'text': 'den'}, {'id': 'w16', 'off': 84, 'text': 'čekaly'}, {'id': 'w17', 'off': 91, 'text': 'stovky'}, {'id': 'w18', 'off': 98, 'text': 'lidí'}, {'id': 'w19', 'off': 102, 'text': '.'}]}, {'id': 's1', 'tokens': [{'id': 'w20', 'off': 104, 'text': 'Mezitím'}, {'id': 'w21', 'off': 112, 'text': 'se'}, {'id': 'w22', 'off': 115, 'text': 'arch'}, {'id': 'w23', 'off': 120, 'text': 'šesti'}, {'id': 'w24', 'off': 126, 'text': 'známek'}, {'id': 'w25', 'off': 133, 'text': 'prodává'}, {'id': 'w26', 'off': 141, 'text': 'na'}, {'id': 'w27', 'off': 144, 'text': 'inzertních'}, {'id': 'w28', 'off': 155, 'text': 'serverech'}, {'id': 'w29', 'off': 165, 'text': 'za'}, {'id': 'w30', 'off': 168, 'text': 'více'}, {'id': 'w31', 'off': 173, 'text': 'než'}, {'id': 'w32', 'off': 177, 'text': '10'}, {'id': 'w33', 'off': 180, 'text': 'tisíc'}, {'id': 'w34', 'off': 186, 'text': 'korun'}, {'id': 'w35', 'off': 191, 'text': '.'}]}]}], 'entities': [{'id': 'e0', 'stdForm': 'P1D', 'type': 'set', 'mentions': [{'id': 'm0', 'mwl': 'každý den', 'text': 'každý den', 'tokenIds': ['w14', 'w15']}]}, {'id': 'e1', 'stdForm': '10', 'type': 'number', 'mentions': [{'id': 'm1', 'mwl': '10', 'text': '10', 'tokenIds': ['w32']}]}, {'id': 'e2', 'stdForm': 'Kyjev', 'type': 'location', 'mentions': [{'id': 'm2', 'mwl': 'Kyjev', 'text': 'Kyjeva', 'tokenIds': ['w9']}]}], 'tags': [{'id': 't0', 'stdForm': 'známka', 'type': 'base', 'relevance': 3.917, 'mentions': [{'id': 'm3', 'text': 'známka', 'tokenIds': ['w1']}, {'id': 'm4', 'text': 'známek', 'tokenIds': ['w24']}]}, {'id': 't1', 'stdForm': 'inzertní server', 'type': 'base', 'relevance': 3.0, 'mentions': [{'id': 'm5', 'text': 'inzertních serverech', 'tokenIds': ['w27', 'w28']}]}, {'id': 't2', 'stdForm': 'centrum Kyjeva', 'type': 'base', 'relevance': 2.816, 'mentions': [{'id': 'm6', 'text': 'centru Kyjeva', 'tokenIds': ['w8', 'w9']}]}, {'id': 't3', 'stdForm': 'arch', 'type': 'base', 'relevance': 2.714, 'mentions': [{'id': 'm7', 'text': 'arch', 'tokenIds': ['w22']}]}, {'id': 't4', 'stdForm': 'jediné místo', 'type': 'base', 'relevance': 2.703, 'mentions': [{'id': 'm8', 'text': 'jediném místě', 'tokenIds': ['w5', 'w6']}]}], 'relations': [{'id': 'r0', 'name': 'prodávat', 'textRepr': 'prodávat(známka)', 'type': 'VERB', 'args': [{'type': 'OBJECT', 'name': 'známka'}], 'feats': {'negated': 'false', 'modality': ''}, 'support': [{'tokenIds': ['w3', 'w2']}]}, {'id': 'r1', 'name': 'čekat', 'textRepr': 'čekat(stovka)', 'type': 'VERB', 'args': [{'type': 'SUBJECT', 'name': 'stovka'}], 'feats': {'negated': 'false', 'modality': ''}, 'support': [{'tokenIds': ['w16']}]}, {'id': 'r2', 'name': 'každý', 'textRepr': 'každý(den)', 'type': 'ATTR', 'args': [{'type': 'SUBJECT', 'name': 'den'}], 'feats': {'negated': 'false', 'modality': ''}, 'support': [{'tokenIds': ['w14']}]}, {'id': 'r3', 'name': 'populární', 'textRepr': 'populární(známka)', 'type': 'ATTR', 'args': [{'type': 'SUBJECT', 'name': 'známka'}], 'feats': {'negated': 'false', 'modality': ''}, 'support': [{'tokenIds': ['w0']}]}, {'id': 'r4', 'name': 'jediný', 'textRepr': 'jediný(místo)', 'type': 'ATTR', 'args': [{'type': 'SUBJECT', 'name': 'místo'}], 'feats': {'negated': 'false', 'modality': ''}, 'support': [{'tokenIds': ['w5']}]}, {'id': 'r5', 'name': 'prodávat', 'textRepr': 'prodávat(arch)', 'type': 'VERB', 'args': [{'type': 'OBJECT', 'name': 'arch'}], 'feats': {'negated': 'false', 'modality': ''}, 'support': [{'tokenIds': ['w25', 'w21']}]}, {'id': 'r6', 'name': 'inzertní', 'textRepr': 'inzertní(server)', 'type': 'ATTR', 'args': [{'type': 'SUBJECT', 'name': 'server'}], 'feats': {'negated': 'false', 'modality': ''}, 'support': [{'tokenIds': ['w27']}]}], 'docSentiment': {'mean': 0.0, 'label': 'neutral', 'positive': 0.0, 'negative': 0.0}, 'usedChars': 193})"
      ]
     },
     "metadata": {},
     "execution_count": 3
    }
   ],
   "source": [
    "analysis"
   ]
  },
  {
   "cell_type": "code",
   "execution_count": 10,
   "metadata": {},
   "outputs": [],
   "source": [
    "entities = client.get_entities(phrases)"
   ]
  },
  {
   "cell_type": "code",
   "execution_count": 11,
   "metadata": {},
   "outputs": [
    {
     "output_type": "execute_result",
     "data": {
      "text/plain": [
       "(Entity(id='e0', type='set', stdForm='P1D'),\n",
       " Entity(id='e1', type='number', stdForm='10'),\n",
       " Entity(id='e2', type='location', stdForm='Kyjev'))"
      ]
     },
     "metadata": {},
     "execution_count": 11
    }
   ],
   "source": [
    "entities"
   ]
  },
  {
   "cell_type": "code",
   "execution_count": 12,
   "metadata": {},
   "outputs": [],
   "source": [
    "sentiment = client.get_sentiment(phrases)"
   ]
  },
  {
   "cell_type": "code",
   "execution_count": 13,
   "metadata": {},
   "outputs": [
    {
     "output_type": "execute_result",
     "data": {
      "text/plain": [
       "Sentiment(mean=0.0, positive=0.0, negative=0.0, label='neutral')"
      ]
     },
     "metadata": {},
     "execution_count": 13
    }
   ],
   "source": [
    "sentiment"
   ]
  },
  {
   "cell_type": "code",
   "execution_count": 14,
   "metadata": {},
   "outputs": [],
   "source": [
    "tags = client.get_tags(phrases)"
   ]
  },
  {
   "cell_type": "code",
   "execution_count": 15,
   "metadata": {},
   "outputs": [
    {
     "output_type": "execute_result",
     "data": {
      "text/plain": [
       "(Tag(id='t0', type='base', stdForm='známka', relevance=3.917),\n",
       " Tag(id='t1', type='base', stdForm='inzertní server', relevance=3.0),\n",
       " Tag(id='t2', type='base', stdForm='centrum Kyjeva', relevance=2.816),\n",
       " Tag(id='t3', type='base', stdForm='arch', relevance=2.714),\n",
       " Tag(id='t4', type='base', stdForm='jediné místo', relevance=2.703))"
      ]
     },
     "metadata": {},
     "execution_count": 15
    }
   ],
   "source": [
    "tags"
   ]
  },
  {
   "cell_type": "code",
   "execution_count": 16,
   "metadata": {},
   "outputs": [],
   "source": [
    "relations = client.get_relations(phrases)"
   ]
  },
  {
   "cell_type": "code",
   "execution_count": 17,
   "metadata": {},
   "outputs": [
    {
     "output_type": "execute_result",
     "data": {
      "text/plain": [
       "(Relation(id='r0', type='VERB', textRepr='prodávat(známka)', name='prodávat', args=[{'type': 'OBJECT', 'name': 'známka'}]),\n",
       " Relation(id='r1', type='VERB', textRepr='čekat(stovka)', name='čekat', args=[{'type': 'SUBJECT', 'name': 'stovka'}]),\n",
       " Relation(id='r2', type='ATTR', textRepr='každý(den)', name='každý', args=[{'type': 'SUBJECT', 'name': 'den'}]),\n",
       " Relation(id='r3', type='ATTR', textRepr='populární(známka)', name='populární', args=[{'type': 'SUBJECT', 'name': 'známka'}]),\n",
       " Relation(id='r4', type='ATTR', textRepr='jediný(místo)', name='jediný', args=[{'type': 'SUBJECT', 'name': 'místo'}]),\n",
       " Relation(id='r5', type='VERB', textRepr='prodávat(arch)', name='prodávat', args=[{'type': 'OBJECT', 'name': 'arch'}]),\n",
       " Relation(id='r6', type='ATTR', textRepr='inzertní(server)', name='inzertní', args=[{'type': 'SUBJECT', 'name': 'server'}]))"
      ]
     },
     "metadata": {},
     "execution_count": 17
    }
   ],
   "source": [
    "relations"
   ]
  },
  {
   "cell_type": "code",
   "execution_count": 4,
   "metadata": {},
   "outputs": [],
   "source": [
    "# analysis.to_table()"
   ]
  },
  {
   "cell_type": "code",
   "execution_count": null,
   "metadata": {},
   "outputs": [],
   "source": []
  }
 ]
}