{
 "cells": [
  {
   "cell_type": "markdown",
   "metadata": {},
   "source": [
    "# Basic Client Usage"
   ]
  },
  {
   "cell_type": "code",
   "execution_count": 1,
   "metadata": {},
   "outputs": [],
   "source": [
    "import os\n",
    "\n",
    "from cro.geneea.sdk import Client"
   ]
  },
  {
   "cell_type": "code",
   "execution_count": 2,
   "metadata": {},
   "outputs": [],
   "source": [
    "\n",
    "key = os.environ.get(\"GENEEA_API_KEY\")\n",
    "\n",
    "client = Client(key = key)"
   ]
  },
  {
   "cell_type": "code",
   "execution_count": 8,
   "metadata": {},
   "outputs": [],
   "source": [
    "sentence = \"Krpálek dostal cenu pro nejhodnotnější sportovní výkon roku za svůj zisk zlaté medaile na loňské olympiádě v Tokiu.\""
   ]
  },
  {
   "cell_type": "code",
   "execution_count": 9,
   "metadata": {},
   "outputs": [
    {
     "data": {
      "text/plain": [
       "(Entity(id='e0', stdForm='P1Y', type='duration'),\n",
       " Entity(id='e1', stdForm='Krpálek', type='person'),\n",
       " Entity(id='e2', stdForm='zlatá medaile', type='general'),\n",
       " Entity(id='e3', stdForm='olympiáda v Tokiu', type='event'))"
      ]
     },
     "execution_count": 9,
     "metadata": {},
     "output_type": "execute_result"
    }
   ],
   "source": [
    "client.get_entities(sentence)"
   ]
  },
  {
   "cell_type": "code",
   "execution_count": 10,
   "metadata": {},
   "outputs": [
    {
     "data": {
      "text/plain": [
       "Sentiment(mean=0.3, label='positive', positive=0.3, negative=0.0)"
      ]
     },
     "execution_count": 10,
     "metadata": {},
     "output_type": "execute_result"
    }
   ],
   "source": [
    "client.get_sentiment(sentence)"
   ]
  },
  {
   "cell_type": "code",
   "execution_count": 11,
   "metadata": {},
   "outputs": [
    {
     "data": {
      "text/plain": [
       "(Relation(id='r0', name='dostat', textRepr='dostat(Krpálek,cena)', type='VERB', args=[{'type': 'SUBJECT', 'name': 'Krpálek', 'entityId': 'e1'}, {'type': 'OBJECT', 'name': 'cena'}]),\n",
       " Relation(id='r1', name='hodnotný', textRepr='hodnotný(výkon)', type='ATTR', args=[{'type': 'SUBJECT', 'name': 'výkon'}]),\n",
       " Relation(id='r2', name='sportovní', textRepr='sportovní(výkon)', type='ATTR', args=[{'type': 'SUBJECT', 'name': 'výkon'}]),\n",
       " Relation(id='r3', name='loňský', textRepr='loňský(olympiáda v Tokiu)', type='ATTR', args=[{'type': 'SUBJECT', 'name': 'olympiáda v Tokiu', 'entityId': 'e3'}]))"
      ]
     },
     "execution_count": 11,
     "metadata": {},
     "output_type": "execute_result"
    }
   ],
   "source": [
    "client.get_relations(sentence)"
   ]
  },
  {
   "cell_type": "code",
   "execution_count": 13,
   "metadata": {},
   "outputs": [
    {
     "data": {
      "text/plain": [
       "(Tag(id='t0', stdForm='olympiáda v Tokiu', type='base', relevance=4.0),\n",
       " Tag(id='t1', stdForm='Krpálek', type='base', relevance=4.0),\n",
       " Tag(id='t2', stdForm='zlatá medaile', type='base', relevance=4.0),\n",
       " Tag(id='t3', stdForm='sportovní výkon', type='base', relevance=2.873),\n",
       " Tag(id='t4', stdForm='výkon roku', type='base', relevance=2.868))"
      ]
     },
     "execution_count": 13,
     "metadata": {},
     "output_type": "execute_result"
    }
   ],
   "source": [
    "client.get_tags(sentence)"
   ]
  },
  {
   "cell_type": "code",
   "execution_count": 14,
   "metadata": {},
   "outputs": [
    {
     "data": {
      "text/plain": [
       "Account(type=None, remainingQuotas=None)"
      ]
     },
     "execution_count": 14,
     "metadata": {},
     "output_type": "execute_result"
    }
   ],
   "source": [
    "client.get_account()"
   ]
  }
 ],
 "metadata": {
  "interpreter": {
   "hash": "08f0afe7d9c9088a5a0f3ed13655a06680f3ee4f1f5eaebd26d9c5f58f8bb354"
  },
  "kernelspec": {
   "display_name": "Python 3.10.0 64-bit ('.venv': venv)",
   "name": "python3"
  },
  "language_info": {
   "codemirror_mode": {
    "name": "ipython",
    "version": 3
   },
   "file_extension": ".py",
   "mimetype": "text/x-python",
   "name": "python",
   "nbconvert_exporter": "python",
   "pygments_lexer": "ipython3",
   "version": "3.10.0"
  },
  "orig_nbformat": 4
 },
 "nbformat": 4,
 "nbformat_minor": 2
}
